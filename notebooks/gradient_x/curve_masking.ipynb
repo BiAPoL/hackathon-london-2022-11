{
 "cells": [
  {
   "cell_type": "code",
   "execution_count": 1,
   "id": "f8187272-ea2f-4091-99f2-e37199d37745",
   "metadata": {},
   "outputs": [],
   "source": [
    "import pyclesperanto_prototype as cle\n",
    "import numpy as np"
   ]
  },
  {
   "cell_type": "code",
   "execution_count": 2,
   "id": "f2e6260b-cceb-4022-b305-9e8de681f50b",
   "metadata": {},
   "outputs": [],
   "source": [
    "a = np.asarray([[-2, -1, 0, 1, 2]])\n",
    "b = np.asarray([[5, 6, 7, 8, 9]])"
   ]
  },
  {
   "cell_type": "code",
   "execution_count": 3,
   "id": "5a0ef300-6941-40fd-9f91-6516be350100",
   "metadata": {},
   "outputs": [
    {
     "data": {
      "text/plain": [
       "array([[0, 0, 7, 1, 1]])"
      ]
     },
     "execution_count": 3,
     "metadata": {},
     "output_type": "execute_result"
    }
   ],
   "source": [
    "b[a > 0] = 1\n",
    "b[a < 0] = 0\n",
    "b"
   ]
  },
  {
   "cell_type": "code",
   "execution_count": 4,
   "id": "150472ed-2a70-4c6c-a988-2a90e79cdf98",
   "metadata": {},
   "outputs": [],
   "source": [
    "a = np.asarray([[-2, -1, 0, 1, 2]])\n",
    "b = np.asarray([[5, 6, 7, 8, 9]])"
   ]
  },
  {
   "cell_type": "code",
   "execution_count": 5,
   "id": "506503eb-3193-43dd-9657-92f2bba45781",
   "metadata": {},
   "outputs": [],
   "source": [
    "mask_gt = cle.asarray(a) > 0\n",
    "mask_lt = cle.asarray(a) < 0"
   ]
  },
  {
   "cell_type": "code",
   "execution_count": 6,
   "id": "d9cbf5c1-732d-40dd-bbf8-0c50356d50d0",
   "metadata": {},
   "outputs": [
    {
     "data": {
      "text/html": [
       "<pre>cle.array([[1 1 0 1 1]], dtype=uint8)</pre>"
      ],
      "text/plain": [
       "cl.OCLArray([[1, 1, 0, 1, 1]], dtype=uint8)"
      ]
     },
     "execution_count": 6,
     "metadata": {},
     "output_type": "execute_result"
    }
   ],
   "source": [
    "combined_mask = cle.binary_or(mask_gt, mask_lt)\n",
    "combined_mask"
   ]
  },
  {
   "cell_type": "code",
   "execution_count": 7,
   "id": "7594e737-7519-451a-bd6e-0facffdc6371",
   "metadata": {},
   "outputs": [
    {
     "data": {
      "text/html": [
       "<pre>cle.array([[0 0 1 0 0]], dtype=uint8)</pre>"
      ],
      "text/plain": [
       "cl.OCLArray([[0, 0, 1, 0, 0]], dtype=uint8)"
      ]
     },
     "execution_count": 7,
     "metadata": {},
     "output_type": "execute_result"
    }
   ],
   "source": [
    "inverted_mask = cle.binary_not(combined_mask)\n",
    "inverted_mask"
   ]
  },
  {
   "cell_type": "code",
   "execution_count": 8,
   "id": "70639d6d-5cda-476d-a37e-0d0bee0520e4",
   "metadata": {},
   "outputs": [
    {
     "data": {
      "text/html": [
       "<pre>cle.array([[0. 0. 7. 0. 0.]], dtype=float32)</pre>"
      ],
      "text/plain": [
       "cl.OCLArray([[0., 0., 7., 0., 0.]], dtype=float32)"
      ]
     },
     "execution_count": 8,
     "metadata": {},
     "output_type": "execute_result"
    }
   ],
   "source": [
    "masked_b = cle.mask(b, inverted_mask)\n",
    "masked_b"
   ]
  },
  {
   "cell_type": "code",
   "execution_count": 9,
   "id": "1a343720-a5d0-44b3-a9d3-54d99aa8e5d6",
   "metadata": {},
   "outputs": [
    {
     "data": {
      "text/html": [
       "<pre>cle.array([[0. 0. 7. 1. 1.]], dtype=float32)</pre>"
      ],
      "text/plain": [
       "cl.OCLArray([[0., 0., 7., 1., 1.]], dtype=float32)"
      ]
     },
     "execution_count": 9,
     "metadata": {},
     "output_type": "execute_result"
    }
   ],
   "source": [
    "result = masked_b + mask_gt\n",
    "result"
   ]
  },
  {
   "cell_type": "code",
   "execution_count": null,
   "id": "df287c43-d7c0-44dd-8acc-6b117fc535a0",
   "metadata": {},
   "outputs": [],
   "source": []
  }
 ],
 "metadata": {
  "kernelspec": {
   "display_name": "Python 3 (ipykernel)",
   "language": "python",
   "name": "python3"
  },
  "language_info": {
   "codemirror_mode": {
    "name": "ipython",
    "version": 3
   },
   "file_extension": ".py",
   "mimetype": "text/x-python",
   "name": "python",
   "nbconvert_exporter": "python",
   "pygments_lexer": "ipython3",
   "version": "3.9.13"
  }
 },
 "nbformat": 4,
 "nbformat_minor": 5
}
